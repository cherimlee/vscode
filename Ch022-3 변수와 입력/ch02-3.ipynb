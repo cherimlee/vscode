{
 "cells": [
  {
   "cell_type": "code",
   "execution_count": null,
   "metadata": {},
   "outputs": [],
   "source": []
  },
  {
   "cell_type": "markdown",
   "metadata": {},
   "source": [
    "### 02-3 변수와 입력\n",
    "---\n",
    "#### 시작하기 전에\n",
    "***변수***란 값을 저장하여 사용하기 위한 식별자다."
   ]
  },
  {
   "cell_type": "markdown",
   "metadata": {},
   "source": [
    "> 변수(Variable) 만들기(사용)"
   ]
  },
  {
   "cell_type": "code",
   "execution_count": null,
   "metadata": {},
   "outputs": [],
   "source": [
    "# 원의 둘레 먼저 "
   ]
  },
  {
   "cell_type": "markdown",
   "metadata": {},
   "source": [
    "> 복합대입연산자 : += -= *= /= %="
   ]
  },
  {
   "cell_type": "code",
   "execution_count": null,
   "metadata": {},
   "outputs": [],
   "source": [
    "a = 0\n",
    "print(a + 1)\n",
    "a += 10 # a + 10 = a\n",
    "print(a)\n",
    "\n",
    "a += 10\n",
    "print(a)\n",
    "\n",
    "a /= 5 # a = a/5\n",
    "print(a)"
   ]
  },
  {
   "cell_type": "markdown",
   "metadata": {},
   "source": [
    "> 사용자 입력 :input()"
   ]
  },
  {
   "cell_type": "code",
   "execution_count": null,
   "metadata": {},
   "outputs": [],
   "source": [
    "keyboard = input(\"숫자를 입력하시오\")\n",
    "print(type(kepboard))\n",
    "\n",
    "print(int(keyboard) + 10) \n",
    "\n"
   ]
  },
  {
   "cell_type": "markdown",
   "metadata": {},
   "source": [
    ">타입 캐스팅(형변환)"
   ]
  },
  {
   "cell_type": "code",
   "execution_count": null,
   "metadata": {},
   "outputs": [],
   "source": [
    "keyboard = input(\"숫자를 입력해 주세요: \")\n",
    "print(\"입력값\", keyboard)\n",
    "print(type(keyboard))\n",
    "\n",
    "# 'str' to 'int' : 문자열을 숫자로\n",
    "keyboard = int(keyboard)\n",
    "print(\"int(입력값):\", keyboard)\n",
    "print(type(keyboard))\n",
    "\n",
    "keyboard += 10\n",
    "pritn(\"입력값 + 10 =\", keyboard)\n"
   ]
  },
  {
   "cell_type": "code",
   "execution_count": null,
   "metadata": {},
   "outputs": [],
   "source": [
    "radius = float() input(\"원의 반지름(실수)을 입력하세요: \")\n",
    "\n",
    "print(type(radius))"
   ]
  },
  {
   "cell_type": "markdown",
   "metadata": {},
   "source": [
    "> 사용자 입력값 계산하기"
   ]
  },
  {
   "cell_type": "code",
   "execution_count": null,
   "metadata": {},
   "outputs": [],
   "source": [
    "# 숫자를 두 번 입력받아 계산하고 결과를 출력하시오\n",
    "\n",
    "a = float(jnput(\"입력값 a\"))\n",
    "b = float(jnput(\"입력값 b\"))\n",
    "\n",
    "print(\"a+b : \", a+b)\n",
    "print(\"a-b : \", a-b)\n",
    "print(\"a*b : \", a*b)\n",
    "print(\"a/b : \", a/b)\n",
    "\n",
    "first = int(input(\"첫번째: \"))\n",
    "second = int(input(\"두번쨰 : \"))\n",
    "\n",
    "sum = first + second\n",
    "subtract = first - second\n",
    "multiple = first * second\n",
    "divide = first / second\n",
    "\n",
    "result = print(\"사칙연산 결과: \", sum, subtract, mulriple, divide)\n",
    "\n",
    "#3\n",
    "x = None; y = None\n",
    "\n",
    "data1 = input(\"첫번째: \")\n",
    "data2 = input(\"두번째: \")\n",
    "x = float(data1)\n",
    "y = float(data2)"
   ]
  },
  {
   "cell_type": "markdown",
   "metadata": {},
   "source": [
    "> ValueError 예외"
   ]
  },
  {
   "cell_type": "code",
   "execution_count": null,
   "metadata": {},
   "outputs": [],
   "source": [
    "# print(dir(__builtins__))\n",
    "\n",
    "# 첫째, 숫자가 아닌 자료를 숫자로 변환하려고 할 때 \n",
    "data =int(input(\"정수를 입력하세요: \"))\n",
    "pritn(data)\n",
    "\n",
    "i = int(\"123456789\")\n",
    "print(i)\n",
    "\n",
    "int(\"안녕하세요\")\n",
    "\n",
    "# 둘째, 소수점이 있는 숫자 형식의 문자열을  int(), 형변환하려고 할 때 \n",
    "x = 42.195\n",
    "print(int(x))\n",
    "\n",
    "s = \"42195\"\n",
    "print(int(s))\n",
    "\n",
    "sf = \"42.195\"\n",
    "int(sf) #ValueError\n",
    "float(sf)\n"
   ]
  },
  {
   "cell_type": "markdown",
   "metadata": {},
   "source": [
    "> 숫자를 문자열로 바꾸기 : str()"
   ]
  },
  {
   "cell_type": "code",
   "execution_count": null,
   "metadata": {},
   "outputs": [],
   "source": [
    "a = 20\n",
    "b = 30\n",
    "print(a + b) #50\n",
    "\n",
    "a = str(a)\n",
    "b = str(b)\n",
    "print(a + b) #2030\n"
   ]
  },
  {
   "cell_type": "code",
   "execution_count": null,
   "metadata": {},
   "outputs": [],
   "source": [
    "# \"오늘의 날짜: 2022.1.5\"\n",
    "\n",
    "#1\n",
    "import datetime.datetime.now(\n",
    ")\n",
    "\n",
    "print(\"오늘의 날짜: {}년 {}월 {}일\".format(\n",
    "    now.year,\n",
    "    now.month,\n",
    "    now.day\n",
    "    \n",
    "))\n",
    "\n",
    "#2\n",
    "current = datetime,datetime,now()\n",
    "\n",
    "print(\"오늘의 날짜 {} {} {}\".format(\n",
    "    current.year, current.month, current.day))\n",
    "\n",
    "#3\n",
    "import datetime\n",
    "today = datetime.datetime.today().strftime('%Y-%m-%d')\n",
    "\n",
    "print(\"오늘의 날짜는 {} 입니다\" .format(today))"
   ]
  },
  {
   "cell_type": "code",
   "execution_count": null,
   "metadata": {},
   "outputs": [],
   "source": [
    "# 사용자로부터 인치(inch)를 입력받아 센티미터(cm)로 리턴해주는 프로그램 작성\n",
    "\n",
    "#1\n",
    "inch = float(input(\"인치 입력: \"))\n",
    "\n",
    "# 1 inch -> 2.54cm\n",
    "cm = (inch * 2.54)\n",
    "\n",
    "print(\"사용자가 입력한 {}인치는 {}cm 입니다.\".format(inch, cm))\n",
    "\n",
    "#2\n",
    "inch = float(input(\"인치를 입력하세요:\"))\n",
    "\n",
    "print(f\"센치는 {inch * 0.0254}cm 입니다\")"
   ]
  }
 ],
 "metadata": {
  "interpreter": {
   "hash": "916dbcbb3f70747c44a77c7bcd40155683ae19c65e1c03b4aa3499c5328201f1"
  },
  "kernelspec": {
   "display_name": "Python 3.8.10 64-bit",
   "language": "python",
   "name": "python3"
  },
  "language_info": {
   "name": "python",
   "version": "3.8.10"
  },
  "orig_nbformat": 4
 },
 "nbformat": 4,
 "nbformat_minor": 2
}
