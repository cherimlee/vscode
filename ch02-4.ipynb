{
 "cells": [
  {
   "cell_type": "markdown",
   "metadata": {},
   "source": [
    "### 02-4 숫자와 문자열의 다양한 기능\n",
    "---\n",
    "#### 시작하기 전에\n",
    "***문자열 자료형의 기능***  \n",
    "                            즉, 내장 함수 알아보기 !\n"
   ]
  },
  {
   "cell_type": "code",
   "execution_count": null,
   "metadata": {},
   "outputs": [],
   "source": [
    "# \"str\" .멤버함수 호출 ()\n",
    "\n",
    "print(\"Life is short\".upper()) #대문자로 변환\n",
    "print(\"I am string\".__len__())"
   ]
  },
  {
   "cell_type": "markdown",
   "metadata": {},
   "source": [
    "> 서식 지정자(format specifier)로 문자열 만들기"
   ]
  },
  {
   "cell_type": "code",
   "execution_count": null,
   "metadata": {},
   "outputs": [],
   "source": [
    "# 철수의 평균 점수는 85.3점 입니다. \n",
    "# 영희의 평균 점수는 85.3점 입니다.\n",
    "# 길동의 평균 점수는 85.3점 입니다. \n",
    "# 순이의 평균 점수는 85.3점 입니다. \n",
    "\n",
    "# {이름}의 평균 점수는 {점수}점 입니다.\n",
    "\n",
    "# 문자열 안에서 특정 부분을 원하는 값으로 바꿀 때 : 서식 지정자 또는 문자열 포맷함수(forma())를 사용한다\n",
    "\n",
    "name = \"철수\"\n",
    "score = 85.3\n",
    "print(\"%s의 평균 점수는 %f입니다.\" % (name,score))\n",
    "print(\"%s의 평균점수는 %d입니다.\" % (name, score))\n",
    "\n",
    "name = 'IU'\n",
    "print(\"My name is %s\" %name)\n"
   ]
  },
  {
   "cell_type": "code",
   "execution_count": null,
   "metadata": {},
   "outputs": [],
   "source": [
    "# 학급 학생들의 점수 출력하기\n",
    "import time  #time import 해야 함 \n",
    "\n",
    "names = [\"철수\", \"영희\", \"길산\", \"희경\", \"영수\"]\n",
    "scores = [85, 98, 75, 83, 91, 88]\n",
    "\n",
    "for i in range(6): \n",
    "    \n",
    "    print(\"%s의 점수는 %d입니다.\" % (names[i], scores[i]))\n",
    "    time.sleep(1) # 1초씩 출력"
   ]
  },
  {
   "cell_type": "markdown",
   "metadata": {},
   "source": [
    ">문자열 format()함수"
   ]
  },
  {
   "cell_type": "code",
   "execution_count": null,
   "metadata": {},
   "outputs": [],
   "source": [
    "#문자열 안에서 정수 변수를 사용할 때 \n",
    "year = 2022\n",
    "month = 1\n",
    "day = 5\n",
    "\n",
    "today = \"오늘은 2022년 1월 5일입니다.\"\n",
    "\n",
    "print(\"오늘은 %d년 %d월 %d일입니다.\" %(year, month, day))\n",
    "print(\"오늘은 {}년 {}월 {}일입니다.\".format(year, month, day))\n"
   ]
  },
  {
   "cell_type": "code",
   "execution_count": null,
   "metadata": {},
   "outputs": [],
   "source": [
    "#대기 번호 호출\n",
    "\n",
    "def call(number):\n",
    "    print(\"띵동~ {}번 고객님 접수창구로 와주세요\".format(number))\n",
    "    \n",
    "for i in [1,2,3,4,5,6,7,8,9]:\n",
    "    call(i)\n",
    "    time.sleep(1)"
   ]
  },
  {
   "cell_type": "code",
   "execution_count": null,
   "metadata": {},
   "outputs": [],
   "source": [
    "# format() 함수의 다양한 형태\n",
    "data1 = \"{}만원\".format(5000)\n",
    "data2 = \"{}M, {}M {}M 달리기\".format(100, 400, 800)\n",
    "\n",
    "# 인덱스 사용\n",
    "data3 = \"Programming Language {} {} {}\".format('Python', 'Script', '3.10.1')\n",
    "#인덱스 번호로 지정\n",
    "data4 = \"{1} {0} {1} {0}\".format('Python', 'Script')\n",
    "\n",
    "# 인덱스 대신 변수명 지정하기\n",
    "data5 = \"Hello, {lan} {ver}\".format(lan = 'Python', ver = '3.10.1')\n",
    "\n",
    "# 변수명 그대로 사용하기\n",
    "lan = 'Java'\n",
    "ver = '11'\n",
    "data6 = f\"Hello, {lan} {ver}\"\n",
    "print (data6)"
   ]
  },
  {
   "cell_type": "markdown",
   "metadata": {},
   "source": [
    "> IndexError 예외 : { } 인덱스 개수와 함수 매개변수 개수보다 많은 경우\n"
   ]
  },
  {
   "cell_type": "code",
   "execution_count": null,
   "metadata": {},
   "outputs": [],
   "source": [
    "print(\"{} {}\".format(1, 2, 3, 4, 5))\n",
    "print(\"{} {} {}\".format(1, 2))"
   ]
  },
  {
   "cell_type": "markdown",
   "metadata": {},
   "source": [
    "> format() 함수의 다양한 기능 : 숫자 관련"
   ]
  },
  {
   "cell_type": "code",
   "execution_count": null,
   "metadata": {},
   "outputs": [],
   "source": [
    "output_a = \"{:d}\".format(52)\n",
    "print(output_a)\n",
    "    \n",
    "output_a = \"{:S}\".format(\"52\")\n",
    "print(output_a)\n",
    "    \n",
    "output_a = \"{:5d}\".format(52)   #오른쪽 정렬\n",
    "print(output_a)  #   52\n",
    "\n",
    "output_a = \"{:05d}\".format(52)   #공백이 아니라 0을 채워서 출력\n",
    "print(output_a)  #00052\n",
    "\n",
    "print(\"[지출내역]\")\n",
    "cost1 = \"{:5d} (만원)\".format(1200) #오른쪽 정렬 사용하면 뒤가 깔끔하게 됨\n"
   ]
  },
  {
   "cell_type": "code",
   "execution_count": null,
   "metadata": {},
   "outputs": [],
   "source": [
    "# 기호와 함께 출력하기 \n",
    "output_a = \"{:+d}\".format(55)\n",
    "print(output_a)  #+55\n",
    "\n",
    "output_b = \"{:+d}\".format(-55)\n",
    "print(output_b)  #-55"
   ]
  },
  {
   "cell_type": "code",
   "execution_count": null,
   "metadata": {},
   "outputs": [],
   "source": [
    "print(\"{:+5d}\".format(52))   # +52\n",
    "print(\"{:=+05d}\".format(52)) #0052"
   ]
  },
  {
   "cell_type": "code",
   "execution_count": null,
   "metadata": {},
   "outputs": [],
   "source": [
    "# 부동 소수점 출력의 형태\n",
    "print(\"{:f}\".forma'(3.141592))\n",
    "print(\"{:+015f}\".forma'(3.141592))\n",
    "\n",
    "# 소수점 아래 자릿수 지정하기\n",
    "#15.3 에서 0.3은 소수점 몇 자리 까지 출력할지 정하는 용도\n",
    "print(\"{:15.3f}\".format(3.141592))\n"
   ]
  },
  {
   "cell_type": "markdown",
   "metadata": {},
   "source": [
    "> 대소문자 바꾸기 : upper()와 lower()"
   ]
  },
  {
   "cell_type": "code",
   "execution_count": null,
   "metadata": {},
   "outputs": [],
   "source": [
    "sentence.upper()\n",
    "sentence.lower()\n",
    "sentence.capitalize()"
   ]
  },
  {
   "cell_type": "markdown",
   "metadata": {},
   "source": [
    "> 문자열 공백 제거하기 : strip(), lstrip(), rstrip()"
   ]
  },
  {
   "cell_type": "code",
   "execution_count": null,
   "metadata": {},
   "outputs": [],
   "source": [
    "input_data = \"                Python\"\n",
    "print(f\"입력값: {input_data}\")\n",
    "print(len(input_data))  #23\n",
    "\n",
    "sentence = input_data.strip() #공백을 제거 해주는 함수\n",
    "print(sentence) \n",
    "print(len(sentence))    #6"
   ]
  },
  {
   "cell_type": "markdown",
   "metadata": {},
   "source": [
    "> 특정 문자 제거하기 "
   ]
  },
  {
   "cell_type": "code",
   "execution_count": null,
   "metadata": {},
   "outputs": [],
   "source": [
    "input_data = \", Python. / *\"\n",
    "print(f\"input_data : {input_data}\")\n",
    "\n",
    "strip_data = input_data,strip(\",./ *\")\n",
    "print(strip_data)\n",
    "print(len(strip_data))\n",
    "\n",
    "#구두점을 간단하게 삭제하는 방법\n",
    "import string\n",
    "print(string.puncuation)\n",
    "input_data = \"!\\\"#$%&& '()*python+,-./:;<>$*&^#$@~\"\n",
    "strip_data = input_data.strip(string.punctuation).upper()\n",
    "print(strip_data)"
   ]
  },
  {
   "cell_type": "markdown",
   "metadata": {},
   "source": [
    "> 문자열의 구성 파악하기 :is__()"
   ]
  },
  {
   "cell_type": "code",
   "execution_count": null,
   "metadata": {},
   "outputs": [],
   "source": [
    "# 불(bool) 자료형 리턴 -> True/False\n",
    "\"abc123\" .isalnum() #alphabept, number\n",
    "\"abc\".isapha()  \n",
    "\"123a\".isnumeric()\n",
    "\"12345\".isdigit()\n",
    "\"ABCD\".isupper()\n",
    "\n",
    "name = \"abc\"\n",
    "if name.isalpha():\n",
    "    print(\"다음 단계로 이동\")\n",
    "else :\n",
    "    print(\"문자를 입력하세요\")"
   ]
  },
  {
   "cell_type": "markdown",
   "metadata": {},
   "source": [
    "> 문자열 위치 찾기 : find() rfind()"
   ]
  },
  {
   "cell_type": "code",
   "execution_count": null,
   "metadata": {},
   "outputs": [],
   "source": [
    "# find() : 왼쪽부터 찾아서 처음 등장하는 위치를 반환\n",
    "# rfind() : 오른쪽부터 찾아서 처음 등장하는 위치를 반환\n",
    "\n",
    "i = '012345678901234'\n",
    "s = 'apple pineapple'\n",
    "\n",
    "s.find('pl')  #2\n",
    "s.rfind('pl') #12\n"
   ]
  },
  {
   "cell_type": "markdown",
   "metadata": {},
   "source": [
    "> 문자열과 in 연산자"
   ]
  },
  {
   "cell_type": "code",
   "execution_count": null,
   "metadata": {},
   "outputs": [],
   "source": [
    "# 문자열 내부에 어떤(지정한) 문자열이 있는지 확인하기\n",
    "print(\"pine\" in s)\n",
    "\n",
    "sentence = \"\"\" the core of python is definig functions.\"\"\"\n",
    "\n",
    "\n",
    "print(\"Python\" in sentence)\n",
    "\n",
    "# 문자열 개수 세기 : count() 특정 문자열이 몇 번 나오는지 알아내기\n",
    "print(sentnece.count(\"arguments\"))"
   ]
  },
  {
   "cell_type": "markdown",
   "metadata": {},
   "source": [
    "> 문자열 자르기 : split()"
   ]
  },
  {
   "cell_type": "code",
   "execution_count": null,
   "metadata": {},
   "outputs": [],
   "source": [
    "# 문자열을 특정 문자로 자를 때 사용\n",
    "li = \"10 20 30 40 50\".split()\n",
    "print(li)\n",
    "\n",
    "fruits = \"apple pear grape pineapple orange\"\n",
    "li = fruits.split()\n",
    "print(li)\n",
    "\n",
    "li[0] #apple\n",
    "li[-1] #orange\n",
    "\n",
    "subjects = \"baseball/football/golf/boxing/basketball\"\n",
    "li = sports.split('/')\n",
    "print(li)\n",
    "\n",
    "for s in li ['baseball', 'football', 'golf', 'boxing', 'basketball']\n",
    "    print(s)\n",
    "    \n",
    "for s in li:\n",
    "    print(s)\n",
    "#0~4 \n",
    "for i in range(len(li)):\n",
    "    print(li[i], end=' ')"
   ]
  },
  {
   "cell_type": "code",
   "execution_count": null,
   "metadata": {},
   "outputs": [],
   "source": [
    "date = \"2022.1.5\"\n",
    "li = date.split('.')\n",
    "print(li)\n",
    "\n",
    "year = li[0]\n",
    "month = li[1]\n",
    "day = li[2]\n",
    "\n",
    "print(f\"오늘은 {year}년 {month}월 {day}일 입니다\")"
   ]
  },
  {
   "cell_type": "markdown",
   "metadata": {},
   "source": [
    "> 사용자로부터 입력 받은 모든 정수의 합을 리턴해주는 프로그램 작성"
   ]
  },
  {
   "cell_type": "code",
   "execution_count": null,
   "metadata": {},
   "outputs": [],
   "source": [
    "\n",
    "#1\n",
    "num = input(\"값을 입력해주세요: \")\n",
    "split_num = num.split()\n",
    "sum = 0\n",
    "for a in split_num:\n",
    "    sum += int(a)\n",
    "    print(sum)\n",
    "    \n",
    "#2\n",
    "\n",
    "del(sum)\n",
    "\n",
    "li = list(map(int, input().split()))\n",
    "print(sum(li))"
   ]
  }
 ],
 "metadata": {
  "language_info": {
   "name": "python"
  },
  "orig_nbformat": 4
 },
 "nbformat": 4,
 "nbformat_minor": 2
}
